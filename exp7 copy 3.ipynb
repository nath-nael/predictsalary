{
 "cells": [
  {
   "cell_type": "markdown",
   "id": "6196dee1",
   "metadata": {},
   "source": [
    "Read Data"
   ]
  },
  {
   "cell_type": "code",
   "execution_count": 36,
   "id": "52a357fb",
   "metadata": {},
   "outputs": [],
   "source": [
    "import pandas as pd "
   ]
  },
  {
   "cell_type": "code",
   "execution_count": 37,
   "id": "e305ddde",
   "metadata": {},
   "outputs": [],
   "source": [
    "df = pd.read_csv(\"Ask A Manager Salary Survey 2021 (Responses) - Form Responses 1.csv\")"
   ]
  },
  {
   "cell_type": "markdown",
   "id": "69b744d3",
   "metadata": {},
   "source": [
    "Preprocessing"
   ]
  },
  {
   "cell_type": "markdown",
   "id": "8b61d58d",
   "metadata": {},
   "source": [
    "Preprocessing : Renaming Columns"
   ]
  },
  {
   "cell_type": "code",
   "execution_count": 38,
   "id": "06bf26b9",
   "metadata": {},
   "outputs": [],
   "source": [
    "df = df.rename(columns={\n",
    "    \"What is your annual salary? (You'll indicate the currency in a later question. If you are part-time or hourly, please enter an annualized equivalent -- what you would earn if you worked the job 40 hours a week, 52 weeks a year.)\": \"Salary\",\n",
    "    \"How much additional monetary compensation do you get, if any (for example, bonuses or overtime in an average year)? Please only include monetary compensation here, not the value of benefits.\": \"AdditionalComp\",\n",
    "    \"Please indicate the currency\": \"Currency\",\n",
    "    \"How old are you?\": \"Age\",\n",
    "    \"What industry do you work in?\": \"Industry\",\n",
    "    \"Job title\": \"JobTitle\",\n",
    "    \"What country do you work in?\": \"Country\",\n",
    "    \"How many years of professional work experience do you have overall?\": \"ExperienceOverall\",\n",
    "    \"How many years of professional work experience do you have in your field?\": \"ExperienceField\",\n",
    "    \"What is your highest level of education completed?\": \"Education\",\n",
    "    \"What is your gender?\": \"Gender\",\n",
    "    \"What is your race? (Choose all that apply.)\": \"Race\"\n",
    "})"
   ]
  },
  {
   "cell_type": "markdown",
   "id": "be3a57df",
   "metadata": {},
   "source": [
    "Preprocessing : String to Decimal"
   ]
  },
  {
   "cell_type": "code",
   "execution_count": 39,
   "id": "51935a4b",
   "metadata": {},
   "outputs": [],
   "source": [
    "df[\"Salary\"] = df[\"Salary\"].str.replace(\",\", \"\").astype(float)\n",
    "df[\"AdditionalComp\"] = df[\"AdditionalComp\"].astype(str).str.replace(\",\", \"\").replace(\"nan\", None)\n",
    "df[\"AdditionalComp\"] = pd.to_numeric(df[\"AdditionalComp\"], errors=\"coerce\")"
   ]
  },
  {
   "cell_type": "markdown",
   "id": "8006a5be",
   "metadata": {},
   "source": [
    "Preprocessing : Set Currency to USD"
   ]
  },
  {
   "cell_type": "code",
   "execution_count": 40,
   "id": "458cb758",
   "metadata": {},
   "outputs": [],
   "source": [
    "currency_rates = {\n",
    "    'USD': 1.0,\n",
    "    'GBP': 1.25,\n",
    "    'EUR': 1.08,\n",
    "    'CAD': 0.74,\n",
    "    'AUD': 0.66,\n",
    "    'INR': 0.012,\n",
    "    'JPY': 0.0065,\n",
    "    'SGD': 0.74,\n",
    "    'MYR': 0.21,\n",
    "    'IDR': 0.000065,\n",
    "    \n",
    "}\n",
    "\n",
    "def convert_to_usd(row):\n",
    "    rate = currency_rates.get(row['Currency'], None)\n",
    "    if rate is not None:\n",
    "        row['Salary'] = row['Salary'] * rate\n",
    "        if not pd.isna(row['AdditionalComp']):\n",
    "            row['AdditionalComp'] = row['AdditionalComp'] * rate\n",
    "        row['Currency'] = 'USD'\n",
    "    return row\n",
    "\n",
    "df = df.apply(convert_to_usd, axis=1)"
   ]
  },
  {
   "cell_type": "markdown",
   "id": "726a62e0",
   "metadata": {},
   "source": [
    "Preprocessing : Processing Multivariant Country Free Text"
   ]
  },
  {
   "cell_type": "code",
   "execution_count": 41,
   "id": "29918ba5",
   "metadata": {},
   "outputs": [],
   "source": [
    "df['Country_cleaned'] = df['Country'].str.strip().str.lower()"
   ]
  },
  {
   "cell_type": "code",
   "execution_count": 42,
   "id": "33f27b55",
   "metadata": {},
   "outputs": [],
   "source": [
    "import re\n",
    "\n",
    "unique_locations = df[\"Country\"].unique()\n",
    "\n",
    "\n",
    "replacements = {\n",
    "    'United States': [\n",
    "        r'\\bU\\.?S\\.?A?\\.?\\b', r'\\bU\\.S\\.A\\.?\\b', r'\\bU\\.S\\.?\\.?\\b',\n",
    "        r'\\bUsa\\b', r'\\bus\\b', r'\\bUS\\b', r'\\bUnited States\\b',\n",
    "        r'\\bUnited states\\b', r'\\bUnited states of america\\b',\n",
    "        r'\\bUnited States of America\\b', r'\\bAmerica\\b',\n",
    "        r'\\bUnited Stated\\b', r'\\bUnited Statws\\b', r'\\bUnited Statues\\b',\n",
    "        r'\\bUnited Stattes\\b', r'\\bUnited Statea\\b', r'\\bUSA\\b',\n",
    "        r'\\busa\\b', r'\\bUNITED STATES\\b', r'\\bunited states\\b',\n",
    "        r'\\bUnitedStates\\b', r'\\bUnited STates\\b', r'\\bUntied States\\b',\n",
    "        r'\\bUnites States\\b', r'\\bUnited State\\b', r'\\bUnited Sates\\b',\n",
    "        r'\\bUnite States\\b', r'\\bUnitef Stated\\b', r'\\bUnited Statss\\b',\n",
    "        r'\\bUnited States is America\\b', r'\\bUS of A\\b', r'\\bUnited y\\b',\n",
    "        r'\\bUSAB\\b', r'\\bUnited Stares\\b', r'\\bUSA tomorrow\\b',\n",
    "        r'\\bU\\. S\\.?\\b', r'\\bU\\.A\\.\\b', r'\\bU\\.S>\\b', r'\\bUSS\\b',\n",
    "        r'\\bUSA-- Virgin Islands\\b', r'\\bUSaa\\b', r'\\buSA\\b',\n",
    "        r'\\bUsa \\b', r'\\bUnited States of American\\b',\n",
    "        r'\\bUnited States Of America\\b'\n",
    "    ],\n",
    "    'United Kingdom': [\n",
    "        r'\\bUK\\b', r'\\buk\\b', r'\\bUk\\b', r'\\bU\\.K\\.?\\b',\n",
    "        r'\\bUnited Kingdom\\b', r'\\bEngland\\b', r'\\bGreat Britain\\b',\n",
    "        r'\\bScotland\\b', r'\\bWales\\b', r'\\bEngland/UK\\b',\n",
    "        r'\\bUnited Kindom\\b', r'\\bUnited Kingdomk\\b', r'\\bU\\.K. \\(northern England\\)\\b',\n",
    "        r'\\bEngland, UK\\b', r'\\bEngland, United Kingdom\\b',\n",
    "        r'\\bEngland, United Kingdom \\b', r'\\bEngland, Gb\\b',\n",
    "        r'\\bNorthern Ireland\\b', r'\\bUK \\(Northern Ireland\\)\\b',\n",
    "        r'\\bUnited kingdom\\b', r'\\bUnited kingdom \\b', r'\\bunited kingdom\\b',\n",
    "        r'\\bScotland, UK\\b', r'\\bWales \\(United Kingdom\\)\\b',\n",
    "        r'\\bUK, remote\\b', r'\\bUK, but for globally fully remote company\\b',\n",
    "        r'\\bUK \\(England\\)\\b'\n",
    "    ],\n",
    "    'Canada': [\n",
    "        r'\\bCanada\\b', r'\\bcanada\\b', r'\\bCanada, Ottawa, ontario\\b',\n",
    "        r'\\bCanada and USA\\b', r'\\bCANADA\\b', r'\\bCANADA \\b',\n",
    "        r'\\bCanadw\\b', r'\\bCsnada\\b', r'\\bCanad\\b', r'\\bCanadá\\b'\n",
    "    ],\n",
    "    'Australia': [\n",
    "        r'\\bAustralia\\b', r'\\bAustralia \\b', r'\\baustralia\\b',\n",
    "        r'\\bAustrali\\b', r'\\bAustralian \\b'\n",
    "    ],\n",
    "    'Netherlands': [\n",
    "        r'\\bThe Netherlands\\b', r'\\bthe Netherlands\\b', r'\\bNetherlands\\b',\n",
    "        r'\\bnetherlands\\b', r'\\bNetherlands \\b', r'\\bThe Netherlands \\b',\n",
    "        r'\\bNederland\\b', r'\\bNL\\b'\n",
    "    ],\n",
    "    'Germany': [\n",
    "        r'\\bGermany\\b', r'\\bGermany \\b', r'\\bgermany\\b'\n",
    "    ],\n",
    "    'India': [\n",
    "        r'\\bIndia\\b', r'\\bindia\\b', r'\\bINDIA\\b', r'\\bibdia\\b'\n",
    "    ],\n",
    "    'France': [\n",
    "        r'\\bFrance\\b', r'\\bFRANCE\\b', r'\\bfrance\\b', r'\\bFrance \\b'\n",
    "    ],\n",
    "    'Mexico': [\n",
    "        r'\\bMexico\\b', r'\\bMexico \\b', r'\\bMéxico\\b'\n",
    "    ],\n",
    "    'New Zealand': [\n",
    "        r'\\bNew Zealand\\b', r'\\bNew zealand\\b', r'\\bNZ\\b',\n",
    "        r'\\bNew Zealand Aotearoa\\b', r'\\bAotearoa New Zealand\\b',\n",
    "        r'\\bFrom New Zealand but on projects across APAC\\b'\n",
    "    ],\n",
    "    'Singapore': [\n",
    "        r'\\bSingapore\\b', r'\\bsingapore\\b', r'\\bSingapore \\b'\n",
    "    ],\n",
    "    'HongKong':[\n",
    "        r'\\bHong KongKong\\b'\n",
    "    ]\n",
    "}\n",
    "\n",
    "def normalize_location(loc):\n",
    "    for standard, patterns in replacements.items():\n",
    "        for pattern in patterns:\n",
    "            if re.search(pattern, loc, re.IGNORECASE):\n",
    "                return standard\n",
    "    return loc.strip()\n",
    "\n",
    "normalized_locations = [normalize_location(loc) for loc in unique_locations]\n",
    "unique_normalized_locations = sorted(set(normalized_locations))\n",
    "\n",
    "df['Country_cleaned'] = df['Country'].apply(normalize_location)\n"
   ]
  },
  {
   "cell_type": "markdown",
   "id": "dddf5297",
   "metadata": {},
   "source": [
    "Preprocessing : Processing Multivariant Country with Fuzz"
   ]
  },
  {
   "cell_type": "code",
   "execution_count": 43,
   "id": "60205ec9",
   "metadata": {},
   "outputs": [],
   "source": [
    "import re\n",
    "from rapidfuzz import process, fuzz\n",
    "import pycountry"
   ]
  },
  {
   "cell_type": "code",
   "execution_count": 44,
   "id": "989c6dc4",
   "metadata": {},
   "outputs": [],
   "source": [
    "valid_countries = [country.name for country in pycountry.countries]\n",
    "valid_countries += ['United States', 'United Kingdom']  \n",
    "\n",
    "def regex_normalize(loc):\n",
    "    for standard, patterns in replacements.items():\n",
    "        for pattern in patterns:\n",
    "            if re.search(pattern, loc, re.IGNORECASE):\n",
    "                return standard\n",
    "    return None  # Not found\n",
    "\n",
    "def fuzzy_match_country(loc, threshold=85):\n",
    "    match = process.extractOne(loc, valid_countries, scorer=fuzz.ratio)\n",
    "    if match and match[1] >= threshold:\n",
    "        return match[0]\n",
    "    return None\n",
    "\n",
    "def normalize_location_full(loc):\n",
    "    if not isinstance(loc, str):\n",
    "        return None\n",
    "    loc = loc.strip()\n",
    "    \n",
    "    norm = regex_normalize(loc)\n",
    "    if norm:\n",
    "        return norm\n",
    "    \n",
    "    return fuzzy_match_country(loc)\n",
    "\n",
    "df['Country_cleaned'] = df['Country'].astype(str).apply(normalize_location_full)\n",
    "\n",
    "df = df[df['Country_cleaned'].notnull()]\n"
   ]
  },
  {
   "cell_type": "markdown",
   "id": "b0cbdeba",
   "metadata": {},
   "source": [
    "Preprocessing : Generalizing Multivariant Industries"
   ]
  },
  {
   "cell_type": "code",
   "execution_count": 45,
   "id": "705c0ec5",
   "metadata": {},
   "outputs": [
    {
     "name": "stdout",
     "output_type": "stream",
     "text": [
      "Industry_grouped\n",
      "Tech                           9390\n",
      "Education                      3764\n",
      "Finance                        2351\n",
      "Healthcare                     2099\n",
      "Government                     1917\n",
      "Engineering & Manufacturing    1768\n",
      "Marketing                      1426\n",
      "Legal                          1097\n",
      "Other                           944\n",
      "Consulting                      891\n",
      "Retail                          515\n",
      "Construction & Real Estate      450\n",
      "Art & Design                    370\n",
      "Media & Entertainment           337\n",
      "Logistics                       315\n",
      "Nonprofit                       274\n",
      "Agriculture                     138\n",
      "Name: count, dtype: int64\n"
     ]
    }
   ],
   "source": [
    "df['Industry_cleaned'] = df['Industry'].str.strip().str.lower().fillna('')\n",
    "\n",
    "def map_industry(industry):\n",
    "    if any(x in industry for x in ['tech', 'software', 'it', 'developer', 'data', 'cyber']):\n",
    "        return 'Tech'\n",
    "    elif any(x in industry for x in ['finance', 'bank', 'accounting', 'investment', 'insurance']):\n",
    "        return 'Finance'\n",
    "    elif any(x in industry for x in ['health', 'hospital', 'medical', 'clinic', 'nurse', 'pharma']):\n",
    "        return 'Healthcare'\n",
    "    elif any(x in industry for x in ['education', 'school', 'university', 'teaching', 'academic', 'library', 'libraries','science', 'research']):\n",
    "        return 'Education'\n",
    "    elif any(x in industry for x in ['government', 'public administration', 'military']):\n",
    "        return 'Government'\n",
    "    elif any(x in industry for x in ['nonprofit', 'ngo', 'charity', 'social']):\n",
    "        return 'Nonprofit'\n",
    "    elif any(x in industry for x in ['retail', 'ecommerce', 'shopping', 'fashion']):\n",
    "        return 'Retail'\n",
    "    elif any(x in industry for x in ['media', 'entertainment', 'music', 'film','publishing']):\n",
    "        return 'Media & Entertainment'\n",
    "    elif any(x in industry for x in ['law', 'legal', 'attorney']):\n",
    "        return 'Legal'\n",
    "    elif any(x in industry for x in ['construction', 'real estate', 'architecture']):\n",
    "        return 'Construction & Real Estate'\n",
    "    elif any(x in industry for x in ['consulting', 'strategy', 'business']):\n",
    "        return 'Consulting'\n",
    "    elif any(x in industry for x in ['manufacturing', 'engineering', 'mechanical']):\n",
    "        return 'Engineering & Manufacturing'\n",
    "    elif any(x in industry for x in ['transport', 'logistics', 'supply chain']):\n",
    "        return 'Logistics'\n",
    "    elif any(x in industry for x in ['marketing','advertising','sales']):\n",
    "        return 'Marketing'\n",
    "    elif any(x in industry for x in ['art', 'design']):\n",
    "        return 'Art & Design'\n",
    "    elif any(x in industry for x in ['agriculture', 'forestry']):\n",
    "        return 'Agriculture'\n",
    "    \n",
    "    else:\n",
    "        return 'Other'\n",
    "\n",
    "df['Industry_grouped'] = df['Industry_cleaned'].apply(map_industry)\n",
    "\n",
    "print(df['Industry_grouped'].value_counts())"
   ]
  },
  {
   "cell_type": "code",
   "execution_count": 46,
   "id": "45aa5ebe",
   "metadata": {},
   "outputs": [],
   "source": [
    "df['JobTitle_cleaned'] = df['JobTitle'].astype(str).str.strip().str.lower().fillna('')\n"
   ]
  },
  {
   "cell_type": "markdown",
   "id": "d2eb959e",
   "metadata": {},
   "source": [
    "Preprocessing : Generalizing Multivariant Job Title"
   ]
  },
  {
   "cell_type": "code",
   "execution_count": 47,
   "id": "6656d145",
   "metadata": {},
   "outputs": [
    {
     "data": {
      "text/plain": [
       "JobTitle_grouped\n",
       "Management                      9216\n",
       "Executive                       4490\n",
       "Engineering & IT                4103\n",
       "Education & Training            1620\n",
       "Data & Analytics                1606\n",
       "Administrative                  1220\n",
       "Other                           1146\n",
       "Marketing & Communications       992\n",
       "Legal                            514\n",
       "Consulting                       512\n",
       "Strategist                       502\n",
       "Healthcare                       440\n",
       "Creative Arts                    331\n",
       "Finance & Accounting             282\n",
       "Human Resources                  265\n",
       "Project & Program Management     247\n",
       "Assistant                        140\n",
       "Sales                            107\n",
       "Researcher & Scientist           100\n",
       "Intern                            71\n",
       "Customer Service                  67\n",
       "News & Media                      42\n",
       "Entrepreneur                      17\n",
       "Language Expert                   16\n",
       "Name: count, dtype: int64"
      ]
     },
     "execution_count": 47,
     "metadata": {},
     "output_type": "execute_result"
    }
   ],
   "source": [
    "def map_job_title(title):\n",
    "    title = str(title).lower()\n",
    "    if any(x in title for x in ['ceo', 'cfo','cto','director','chief', 'executive', 'president', 'vp', 'vice','head']):\n",
    "        return 'Executive'\n",
    "    elif any(x in title for x in ['coordinator','manager', 'supervisor', 'lead','senior']):\n",
    "        return 'Management'\n",
    "    elif any(x in title for x in ['computer','agile','scrum','engineer', 'developer', 'programmer', 'software', 'tech', 'technician', 'it']):\n",
    "        return 'Engineering & IT'\n",
    "    elif any(x in title for x in ['data', 'analyst', 'scientist', 'analytics','statistician']):\n",
    "        return 'Data & Analytics'\n",
    "    elif any(x in title for x in ['designer','artist','graphic','design']):\n",
    "        return 'Creative Arts'\n",
    "    elif any(x in title for x in ['school','teaching','Bookkeeper','lecturer','library','librarian','teacher', 'instructor', 'educator', 'professor', 'tutor', 'trainer', 'instructional','education','research']):\n",
    "        return 'Education & Training'\n",
    "    elif any(x in title for x in ['outreach','pr','marketing', 'brand', 'communications', 'content', 'seo','reporter']):\n",
    "        return 'Marketing & Communications'\n",
    "    elif any(x in title for x in ['sales', 'account executive', 'business development']):\n",
    "        return 'Sales'\n",
    "    elif any(x in title for x in ['hr', 'human resources', 'recruiter', 'talent']):\n",
    "        return 'Human Resources'\n",
    "    elif any(x in title for x in ['archivist','admin', 'administrative', 'office', 'clerk','associate']):\n",
    "        return 'Administrative'\n",
    "    elif any(x in title for x in ['risk','payroll','finance', 'accounting', 'accountant', 'cpa', 'auditor','economist','buyer']):\n",
    "        return 'Finance & Accounting'\n",
    "    elif any(x in title for x in ['legal', 'lawyer', 'attorney', 'paralegal','compliance','advocate']):\n",
    "        return 'Legal'\n",
    "    elif any(x in title for x in ['dental','clinician','surgeon','clinical','psychiatrist','veterinary','optometrist','veterinarian','pharmacist','nurse', 'doctor', 'physician', 'medical', 'health','therapist']):\n",
    "        return 'Healthcare'\n",
    "    elif any(x in title for x in ['counsel','consultant', 'consulting', 'advisor','psychologist','adviser']):\n",
    "        return 'Consulting'\n",
    "    elif any(x in title for x in ['customer service', 'support', 'help desk']):\n",
    "        return 'Customer Service'\n",
    "    elif any(x in title for x in ['producer','project', 'program','partner','assistant']):\n",
    "        return 'Project & Program Management'\n",
    "    elif any(x in title for x in ['owner']):\n",
    "        return 'Entrepreneur'\n",
    "    elif any(x in title for x in ['biologist', 'epidemiologist','geologist','archaeologist','biostatistician','chemist','astronomer','sciences','ecologist','scientific']):\n",
    "        return 'Researcher & Scientist'\n",
    "    elif any(x in title for x in ['journalist','reporter','media','author']):\n",
    "        return 'News & Media'\n",
    "    elif any(x in title for x in ['translator']):\n",
    "        return 'Language Expert'\n",
    "    elif any(x in title for x in ['assistant','controller','worker']):\n",
    "        return 'Assistant'\n",
    "    elif any(x in title for x in ['intern','student']):\n",
    "        return 'Intern'\n",
    "    elif any(x in title for x in ['planner','strategist','planning','investigator','predictor','specialist','tester']):\n",
    "        return 'Strategist'\n",
    "    else:\n",
    "        return 'Other'\n",
    "\n",
    "df['JobTitle_grouped'] = df['JobTitle_cleaned'].apply(map_job_title)\n",
    "\n",
    "df['JobTitle_grouped'].value_counts()\n"
   ]
  },
  {
   "cell_type": "markdown",
   "id": "613c2297",
   "metadata": {},
   "source": [
    "Preprocessing : Filtering Columns to Make It Simpler"
   ]
  },
  {
   "cell_type": "code",
   "execution_count": 48,
   "id": "eb9c19fb",
   "metadata": {},
   "outputs": [],
   "source": [
    "selected_columns = [\"Age\",\"Industry_grouped\",\"JobTitle_grouped\",\"Salary\",\"AdditionalComp\",\"Country_cleaned\",\"ExperienceOverall\",\"ExperienceField\",\"Education\",\"Gender\",\"Race\"]\n",
    "df = df[selected_columns]\n",
    "df = df[df[\"Country_cleaned\"]==\"United States\"]\n"
   ]
  },
  {
   "cell_type": "markdown",
   "id": "bfa78e58",
   "metadata": {},
   "source": [
    "Exploratory Data Analysis"
   ]
  },
  {
   "cell_type": "code",
   "execution_count": 49,
   "id": "3430de01",
   "metadata": {},
   "outputs": [
    {
     "name": "stdout",
     "output_type": "stream",
     "text": [
      "<class 'pandas.core.frame.DataFrame'>\n",
      "Index: 23222 entries, 0 to 28134\n",
      "Data columns (total 11 columns):\n",
      " #   Column             Non-Null Count  Dtype  \n",
      "---  ------             --------------  -----  \n",
      " 0   Age                23222 non-null  object \n",
      " 1   Industry_grouped   23222 non-null  object \n",
      " 2   JobTitle_grouped   23222 non-null  object \n",
      " 3   Salary             23222 non-null  float64\n",
      " 4   AdditionalComp     17406 non-null  float64\n",
      " 5   Country_cleaned    23222 non-null  object \n",
      " 6   ExperienceOverall  23222 non-null  object \n",
      " 7   ExperienceField    23222 non-null  object \n",
      " 8   Education          23066 non-null  object \n",
      " 9   Gender             23080 non-null  object \n",
      " 10  Race               23072 non-null  object \n",
      "dtypes: float64(2), object(9)\n",
      "memory usage: 2.1+ MB\n"
     ]
    },
    {
     "data": {
      "text/plain": [
       "AdditionalComp       5816\n",
       "Education             156\n",
       "Race                  150\n",
       "Gender                142\n",
       "Age                     0\n",
       "Industry_grouped        0\n",
       "JobTitle_grouped        0\n",
       "Salary                  0\n",
       "Country_cleaned         0\n",
       "ExperienceOverall       0\n",
       "ExperienceField         0\n",
       "dtype: int64"
      ]
     },
     "execution_count": 49,
     "metadata": {},
     "output_type": "execute_result"
    }
   ],
   "source": [
    "df.info()\n",
    "df.isnull().sum().sort_values(ascending=False)"
   ]
  },
  {
   "cell_type": "code",
   "execution_count": 50,
   "id": "af32a7d1",
   "metadata": {},
   "outputs": [],
   "source": [
    "import seaborn as sns"
   ]
  },
  {
   "cell_type": "code",
   "execution_count": 51,
   "id": "66389195",
   "metadata": {},
   "outputs": [
    {
     "name": "stderr",
     "output_type": "stream",
     "text": [
      "c:\\Users\\natha\\Downloads\\Computational_Physics\\anaconda3\\Lib\\site-packages\\seaborn\\_oldcore.py:1119: FutureWarning: use_inf_as_na option is deprecated and will be removed in a future version. Convert inf values to NaN before operating instead.\n",
      "  with pd.option_context('mode.use_inf_as_na', True):\n"
     ]
    },
    {
     "data": {
      "text/plain": [
       "<Axes: xlabel='Salary', ylabel='Count'>"
      ]
     },
     "execution_count": 51,
     "metadata": {},
     "output_type": "execute_result"
    },
    {
     "data": {
      "image/png": "[encoded data removed]",
      "text/plain": [
       "<Figure size 640x480 with 1 Axes>"
      ]
     },
     "metadata": {},
     "output_type": "display_data"
    }
   ],
   "source": [
    "sns.histplot(df['Salary'], kde=True)"
   ]
  },
  {
   "cell_type": "code",
   "execution_count": 52,
   "id": "b8f83cb5",
   "metadata": {},
   "outputs": [
    {
     "name": "stderr",
     "output_type": "stream",
     "text": [
      "c:\\Users\\natha\\Downloads\\Computational_Physics\\anaconda3\\Lib\\site-packages\\seaborn\\_oldcore.py:1119: FutureWarning: use_inf_as_na option is deprecated and will be removed in a future version. Convert inf values to NaN before operating instead.\n",
      "  with pd.option_context('mode.use_inf_as_na', True):\n"
     ]
    },
    {
     "data": {
      "text/plain": [
       "<Axes: xlabel='AdditionalComp', ylabel='Count'>"
      ]
     },
     "execution_count": 52,
     "metadata": {},
     "output_type": "execute_result"
    },
    {
     "data": {
      "image/png": "[encoded data removed]",
      "text/plain": [
       "<Figure size 640x480 with 1 Axes>"
      ]
     },
     "metadata": {},
     "output_type": "display_data"
    }
   ],
   "source": [
    "sns.histplot(df['AdditionalComp'].dropna(), kde=True)"
   ]
  },
  {
   "cell_type": "code",
   "execution_count": 53,
   "id": "559c77dd",
   "metadata": {},
   "outputs": [
    {
     "data": {
      "text/plain": [
       "<Axes: xlabel='Age'>"
      ]
     },
     "execution_count": 53,
     "metadata": {},
     "output_type": "execute_result"
    },
    {
     "data": {
      "image/png": "[encoded data removed]",
      "text/plain": [
       "<Figure size 640x480 with 1 Axes>"
      ]
     },
     "metadata": {},
     "output_type": "display_data"
    }
   ],
   "source": [
    "df['Age'].value_counts(normalize=True).plot(kind='bar')\n"
   ]
  },
  {
   "cell_type": "code",
   "execution_count": 54,
   "id": "20a6758e",
   "metadata": {},
   "outputs": [
    {
     "data": {
      "text/plain": [
       "<Axes: xlabel='Age', ylabel='Salary'>"
      ]
     },
     "execution_count": 54,
     "metadata": {},
     "output_type": "execute_result"
    },
    {
     "data": {
      "image/png": "[encoded data removed]",
      "text/plain": [
       "<Figure size 640x480 with 1 Axes>"
      ]
     },
     "metadata": {},
     "output_type": "display_data"
    }
   ],
   "source": [
    "sns.boxplot(data=df, x='Age', y='Salary')\n"
   ]
  },
  {
   "cell_type": "code",
   "execution_count": 55,
   "id": "b6fb85b7",
   "metadata": {},
   "outputs": [
    {
     "data": {
      "text/plain": [
       "(array([0, 1, 2, 3, 4, 5, 6, 7, 8, 9]),\n",
       " [Text(0, 0, 'Education & Training'),\n",
       "  Text(1, 0, 'Marketing & Communications'),\n",
       "  Text(2, 0, 'Management'),\n",
       "  Text(3, 0, 'Data & Analytics'),\n",
       "  Text(4, 0, 'Executive'),\n",
       "  Text(5, 0, 'Legal'),\n",
       "  Text(6, 0, 'Engineering & IT'),\n",
       "  Text(7, 0, 'Other'),\n",
       "  Text(8, 0, 'Administrative'),\n",
       "  Text(9, 0, 'Strategist')])"
      ]
     },
     "execution_count": 55,
     "metadata": {},
     "output_type": "execute_result"
    },
    {
     "data": {
      "image/png": "[encoded data removed]",
      "text/plain": [
       "<Figure size 640x480 with 1 Axes>"
      ]
     },
     "metadata": {},
     "output_type": "display_data"
    }
   ],
   "source": [
    "from matplotlib import pyplot as plt\n",
    "top_jobs = df['JobTitle_grouped'].value_counts().head(10).index\n",
    "sns.boxplot(data=df[df['JobTitle_grouped'].isin(top_jobs)], x='JobTitle_grouped', y='Salary')\n",
    "plt.xticks(rotation=45)"
   ]
  },
  {
   "cell_type": "code",
   "execution_count": 56,
   "id": "9584f98a",
   "metadata": {},
   "outputs": [
    {
     "data": {
      "text/plain": [
       "(array([0, 1, 2, 3, 4, 5]),\n",
       " [Text(0, 0, \"Master's degree\"),\n",
       "  Text(1, 0, 'College degree'),\n",
       "  Text(2, 0, 'PhD'),\n",
       "  Text(3, 0, 'Some college'),\n",
       "  Text(4, 0, 'High School'),\n",
       "  Text(5, 0, 'Professional degree (MD, JD, etc.)')])"
      ]
     },
     "execution_count": 56,
     "metadata": {},
     "output_type": "execute_result"
    },
    {
     "data": {
      "image/png": "[encoded data removed]",
      "text/plain": [
       "<Figure size 640x480 with 1 Axes>"
      ]
     },
     "metadata": {},
     "output_type": "display_data"
    }
   ],
   "source": [
    "sns.boxplot(data=df, x='Education', y='Salary')\n",
    "plt.xticks(rotation=45)"
   ]
  },
  {
   "cell_type": "code",
   "execution_count": 57,
   "id": "d97578d8",
   "metadata": {},
   "outputs": [
    {
     "data": {
      "text/plain": [
       "<Axes: xlabel='ExperienceOverall', ylabel='Salary'>"
      ]
     },
     "execution_count": 57,
     "metadata": {},
     "output_type": "execute_result"
    },
    {
     "data": {
      "image/png": "[encoded data removed]",
      "text/plain": [
       "<Figure size 640x480 with 1 Axes>"
      ]
     },
     "metadata": {},
     "output_type": "display_data"
    }
   ],
   "source": [
    "sns.boxplot(data=df, x='ExperienceOverall', y='Salary')"
   ]
  },
  {
   "cell_type": "markdown",
   "id": "6070464a",
   "metadata": {},
   "source": [
    "Preprocessing : Handle Missing Values with 0 for Numerical, and Mode for Categorical"
   ]
  },
  {
   "cell_type": "code",
   "execution_count": 58,
   "id": "7dd76101",
   "metadata": {},
   "outputs": [],
   "source": [
    "df[\"AdditionalComp\"] = df[\"AdditionalComp\"].fillna(0)\n",
    "df[\"Education\"] = df[\"Education\"].fillna(df[\"Education\"].mode().iloc[0])\n",
    "df[\"Gender\"] = df[\"Gender\"].fillna(df[\"Gender\"].mode().iloc[0])\n",
    "df[\"Race\"] = df[\"Race\"].fillna(df[\"Race\"].mode().iloc[0])\n"
   ]
  },
  {
   "cell_type": "markdown",
   "id": "40b5a7e8",
   "metadata": {},
   "source": [
    "Preprocessing : Encoding High Cardinality Features with Target Encoder"
   ]
  },
  {
   "cell_type": "code",
   "execution_count": 59,
   "id": "0089ed2a",
   "metadata": {},
   "outputs": [
    {
     "name": "stdout",
     "output_type": "stream",
     "text": [
      "     Age  Industry_grouped  JobTitle_grouped   Salary  AdditionalComp  \\\n",
      "0  25-34      68272.613658      69165.859216  55000.0             0.0   \n",
      "2  25-34     106426.733813      78926.129630  34000.0             0.0   \n",
      "3  25-34     117720.379088     107495.913257  62000.0          3000.0   \n",
      "4  25-34     106426.733813     107495.913257  60000.0          7000.0   \n",
      "5  25-34      68272.613658      69165.859216  62000.0             0.0   \n",
      "\n",
      "   Country_cleaned ExperienceOverall ExperienceField        Education Gender  \\\n",
      "0    101854.580441         5-7 years       5-7 years  Master's degree  Woman   \n",
      "2    101854.580441       2 - 4 years     2 - 4 years   College degree  Woman   \n",
      "3    101854.580441      8 - 10 years       5-7 years   College degree  Woman   \n",
      "4    101854.580441      8 - 10 years       5-7 years   College degree  Woman   \n",
      "5    101854.580441      8 - 10 years     2 - 4 years  Master's degree    Man   \n",
      "\n",
      "            Race  TotalComp  \n",
      "0  100386.418338    55000.0  \n",
      "2  100386.418338    34000.0  \n",
      "3  100386.418338    65000.0  \n",
      "4  100386.418338    67000.0  \n",
      "5  100386.418338    62000.0  \n"
     ]
    }
   ],
   "source": [
    "import category_encoders as ce\n",
    "high_card_cols = ['Industry_grouped', 'JobTitle_grouped', 'Country_cleaned',\"Race\"]\n",
    "df['TotalComp'] = df['Salary'] + df['AdditionalComp']\n",
    "encoder = ce.TargetEncoder(cols=high_card_cols)\n",
    "df_encoded = encoder.fit_transform(df[high_card_cols], df['TotalComp'])\n",
    "\n",
    "df[high_card_cols] = df_encoded\n",
    "\n",
    "print(df.head())"
   ]
  },
  {
   "cell_type": "markdown",
   "id": "53d1ac3c",
   "metadata": {},
   "source": [
    "Preprocessing : Encoding Ordinal Features with OrdinalEncoder"
   ]
  },
  {
   "cell_type": "code",
   "execution_count": 60,
   "id": "d4c25e46",
   "metadata": {},
   "outputs": [
    {
     "name": "stdout",
     "output_type": "stream",
     "text": [
      "   Age  ExperienceOverall  ExperienceField  Education\n",
      "0  2.0                2.0              2.0        3.0\n",
      "2  2.0                1.0              1.0        2.0\n",
      "3  2.0                3.0              2.0        2.0\n",
      "4  2.0                3.0              2.0        2.0\n",
      "5  2.0                3.0              1.0        3.0\n"
     ]
    }
   ],
   "source": [
    "from sklearn.preprocessing import OrdinalEncoder\n",
    "\n",
    "# Define the custom order for each ordinal column\n",
    "age_order = ['under 18', '18-24', '25-34', '35-44', '45-54', '55-64', '65 or over']\n",
    "experience_order = [\n",
    "    '1 year or less', '2 - 4 years', '5-7 years', '8 - 10 years',\n",
    "    '11 - 20 years', '21 - 30 years', '31 - 40 years', '41 years or more'\n",
    "]\n",
    "education_order = [\n",
    "    'High School', 'Some college', 'College degree', \"Master's degree\",\n",
    "    'Professional degree (MD, JD, etc.)', 'PhD'\n",
    "]\n",
    "\n",
    "# Specify the columns and corresponding categories in order\n",
    "ordinal_cols = ['Age', 'ExperienceOverall', 'ExperienceField', 'Education']\n",
    "categories = [age_order, experience_order, experience_order, education_order]\n",
    "\n",
    "# Initialize and apply the OrdinalEncoder\n",
    "encoder = OrdinalEncoder(categories=categories)\n",
    "df[ordinal_cols] = encoder.fit_transform(df[ordinal_cols])\n",
    "\n",
    "# Result\n",
    "print(df[ordinal_cols].head())\n"
   ]
  },
  {
   "cell_type": "markdown",
   "id": "a8210422",
   "metadata": {},
   "source": [
    "Preprocessing : Encoding Gender Feature with OneHotEncoder"
   ]
  },
  {
   "cell_type": "code",
   "execution_count": 61,
   "id": "1e5eb9ef",
   "metadata": {},
   "outputs": [],
   "source": [
    "df = pd.get_dummies(df, columns=['Gender'], prefix='Gender')"
   ]
  },
  {
   "cell_type": "markdown",
   "id": "0d203a12",
   "metadata": {},
   "source": [
    "Preprocessing : Binning Salary & Additional Compensation to Increase Accuracy"
   ]
  },
  {
   "cell_type": "code",
   "execution_count": 62,
   "id": "899c4590",
   "metadata": {},
   "outputs": [],
   "source": [
    "df['Salary_binned'] = pd.qcut(df['Salary'], q=5, labels=False)\n",
    "df['AdditionalComp_binned'] = pd.cut(df['AdditionalComp'], bins=5, labels=False)"
   ]
  },
  {
   "cell_type": "code",
   "execution_count": 63,
   "id": "2c8db5d7",
   "metadata": {},
   "outputs": [
    {
     "name": "stdout",
     "output_type": "stream",
     "text": [
      "Kategori dan range:\n",
      "IntervalIndex([(-0.001, 52000.0], (52000.0, 70000.0], (70000.0, 90000.0], (90000.0, 122990.0], (122990.0, 10000000.0]], dtype='interval[float64, right]')\n"
     ]
    }
   ],
   "source": [
    "bins = pd.qcut(df['Salary'], q=5)\n",
    "\n",
    "print(\"Kategori dan range:\")\n",
    "print(bins.cat.categories)"
   ]
  },
  {
   "cell_type": "code",
   "execution_count": 64,
   "id": "247bf594",
   "metadata": {},
   "outputs": [
    {
     "name": "stdout",
     "output_type": "stream",
     "text": [
      "Kategori dan range:\n",
      "IntervalIndex([(-1500.0, 300000.0], (300000.0, 600000.0], (600000.0, 900000.0], (900000.0, 1200000.0], (1200000.0, 1500000.0]], dtype='interval[float64, right]')\n"
     ]
    }
   ],
   "source": [
    "bins = pd.cut(df['AdditionalComp'], bins=5)\n",
    "\n",
    "print(\"Kategori dan range:\")\n",
    "print(bins.cat.categories)"
   ]
  },
  {
   "cell_type": "markdown",
   "id": "0a6c759c",
   "metadata": {},
   "source": [
    "Model Selection"
   ]
  },
  {
   "cell_type": "code",
   "execution_count": 65,
   "id": "e419d18d",
   "metadata": {},
   "outputs": [],
   "source": [
    "from sklearn.model_selection import train_test_split, GridSearchCV\n",
    "from sklearn.ensemble import RandomForestClassifier, GradientBoostingClassifier\n",
    "from xgboost import XGBClassifier\n",
    "from sklearn.multioutput import MultiOutputClassifier\n",
    "from sklearn.preprocessing import StandardScaler\n",
    "from sklearn.decomposition import PCA\n",
    "from sklearn.metrics import classification_report, accuracy_score\n",
    "\n"
   ]
  },
  {
   "cell_type": "markdown",
   "id": "cc5b159d",
   "metadata": {},
   "source": [
    "Model : Split Data "
   ]
  },
  {
   "cell_type": "code",
   "execution_count": 66,
   "id": "f49f8492",
   "metadata": {},
   "outputs": [],
   "source": [
    "X = df.drop(columns=['Salary', 'AdditionalComp', 'TotalComp', 'Salary_binned', 'AdditionalComp_binned'])\n",
    "y = df[['Salary_binned', 'AdditionalComp_binned']]\n",
    "X_train, X_test, y_train, y_test = train_test_split(X, y, test_size=0.2, random_state=42)"
   ]
  },
  {
   "cell_type": "markdown",
   "id": "f5e4911a",
   "metadata": {},
   "source": [
    "Model : Normalization with StandardScaler"
   ]
  },
  {
   "cell_type": "code",
   "execution_count": 67,
   "id": "82c819fa",
   "metadata": {},
   "outputs": [],
   "source": [
    "scaler = StandardScaler()\n",
    "X_train_scaled = scaler.fit_transform(X_train)\n",
    "X_test_scaled = scaler.transform(X_test)"
   ]
  },
  {
   "cell_type": "markdown",
   "id": "a9ec3e7b",
   "metadata": {},
   "source": [
    "Model : Dimensional Reduction with PCA"
   ]
  },
  {
   "cell_type": "code",
   "execution_count": 68,
   "id": "e856d42b",
   "metadata": {},
   "outputs": [],
   "source": [
    "pca = PCA(n_components=2)\n",
    "X_train_pca = pca.fit_transform(X_train_scaled)\n",
    "X_test_pca = pca.transform(X_test_scaled)"
   ]
  },
  {
   "cell_type": "markdown",
   "id": "07a037bd",
   "metadata": {},
   "source": [
    "Model : Model and Grid Parameter"
   ]
  },
  {
   "cell_type": "code",
   "execution_count": 69,
   "id": "e1169cc8",
   "metadata": {},
   "outputs": [
    {
     "name": "stdout",
     "output_type": "stream",
     "text": [
      "Tuning RandomForest...\n"
     ]
    },
    {
     "name": "stderr",
     "output_type": "stream",
     "text": [
      "c:\\Users\\natha\\Downloads\\Computational_Physics\\anaconda3\\Lib\\site-packages\\sklearn\\model_selection\\_search.py:1108: UserWarning: One or more of the test scores are non-finite: [nan nan nan nan]\n",
      "  warnings.warn(\n"
     ]
    },
    {
     "name": "stdout",
     "output_type": "stream",
     "text": [
      "Tuning GradientBoosting...\n"
     ]
    },
    {
     "name": "stderr",
     "output_type": "stream",
     "text": [
      "c:\\Users\\natha\\Downloads\\Computational_Physics\\anaconda3\\Lib\\site-packages\\sklearn\\model_selection\\_search.py:1108: UserWarning: One or more of the test scores are non-finite: [nan nan nan nan]\n",
      "  warnings.warn(\n"
     ]
    },
    {
     "name": "stdout",
     "output_type": "stream",
     "text": [
      "Tuning XGBoost...\n"
     ]
    },
    {
     "name": "stderr",
     "output_type": "stream",
     "text": [
      "c:\\Users\\natha\\Downloads\\Computational_Physics\\anaconda3\\Lib\\site-packages\\sklearn\\model_selection\\_search.py:1108: UserWarning: One or more of the test scores are non-finite: [nan nan nan nan nan nan nan nan]\n",
      "  warnings.warn(\n"
     ]
    },
    {
     "name": "stdout",
     "output_type": "stream",
     "text": [
      "                  Salary Accuracy  AdditionalComp Accuracy  Avg Accuracy\n",
      "RandomForest             0.310011                 0.997201      0.653606\n",
      "GradientBoosting         0.302045                 0.996555      0.649300\n",
      "XGBoost                  0.301830                 0.996771      0.649300\n"
     ]
    }
   ],
   "source": [
    "param_grids = {\n",
    "    \"RandomForest\": {\n",
    "        \"estimator__n_estimators\": [50, 100],\n",
    "        \"estimator__max_depth\": [None, 10],\n",
    "    },\n",
    "    \"GradientBoosting\": {\n",
    "        \"estimator__n_estimators\": [50, 100],\n",
    "        \"estimator__learning_rate\": [0.05, 0.1],\n",
    "    },\n",
    "    \"XGBoost\": {\n",
    "        \"estimator__n_estimators\": [50, 100],\n",
    "        \"estimator__learning_rate\": [0.05, 0.1],\n",
    "        \"estimator__max_depth\": [3, 6],\n",
    "    }\n",
    "}\n",
    "\n",
    "base_models = {\n",
    "    \"RandomForest\": MultiOutputClassifier(RandomForestClassifier(random_state=42)),\n",
    "    \"GradientBoosting\": MultiOutputClassifier(GradientBoostingClassifier(random_state=42)),\n",
    "    \"XGBoost\": MultiOutputClassifier(XGBClassifier(random_state=42, verbosity=0)),\n",
    "}\n",
    "\n",
    "results = {}\n",
    "trained_models = {}\n",
    "for name, base_model in base_models.items():\n",
    "    print(f\"Tuning {name}...\")\n",
    "    grid = GridSearchCV(base_model, param_grids[name], cv=3, n_jobs=-1, scoring='accuracy')\n",
    "    grid.fit(X_train_pca, y_train)\n",
    "    best_model = grid.best_estimator_\n",
    "    trained_models[name] = best_model\n",
    "    y_pred = best_model.predict(X_test_pca)\n",
    "\n",
    "    salary_acc = accuracy_score(y_test['Salary_binned'], y_pred[:, 0])\n",
    "    addcomp_acc = accuracy_score(y_test['AdditionalComp_binned'], y_pred[:, 1])\n",
    "    \n",
    "    results[name] = {\n",
    "        \"Salary Accuracy\": salary_acc,\n",
    "        \"AdditionalComp Accuracy\": addcomp_acc,\n",
    "        \"Avg Accuracy\": (salary_acc + addcomp_acc) / 2\n",
    "    }\n",
    "\n",
    "results_df = pd.DataFrame(results).T\n",
    "print(results_df)"
   ]
  },
  {
   "cell_type": "markdown",
   "id": "2d7afaa3",
   "metadata": {},
   "source": [
    "Evaluation : Accuracy Score and Classification Report"
   ]
  },
  {
   "cell_type": "code",
   "execution_count": 70,
   "id": "9e93e9e6",
   "metadata": {},
   "outputs": [
    {
     "name": "stdout",
     "output_type": "stream",
     "text": [
      "\n",
      "Best model: RandomForest\n",
      "Best accuracy: 0.6536\n",
      "=== Salary Classification Report ===\n",
      "              precision    recall  f1-score   support\n",
      "\n",
      "           0       0.37      0.36      0.36       930\n",
      "           1       0.28      0.26      0.27      1042\n",
      "           2       0.22      0.22      0.22       918\n",
      "           3       0.24      0.23      0.24       808\n",
      "           4       0.41      0.48      0.44       947\n",
      "\n",
      "    accuracy                           0.31      4645\n",
      "   macro avg       0.30      0.31      0.31      4645\n",
      "weighted avg       0.31      0.31      0.31      4645\n",
      "\n",
      "=== Additional Compensation Classification Report ===\n",
      "              precision    recall  f1-score   support\n",
      "\n",
      "           0       1.00      1.00      1.00      4630\n",
      "           1       1.00      0.09      0.17        11\n",
      "           2       0.00      0.00      0.00         1\n",
      "           3       0.00      0.00      0.00         2\n",
      "           4       1.00      1.00      1.00         1\n",
      "\n",
      "    accuracy                           1.00      4645\n",
      "   macro avg       0.60      0.42      0.43      4645\n",
      "weighted avg       1.00      1.00      1.00      4645\n",
      "\n"
     ]
    },
    {
     "name": "stderr",
     "output_type": "stream",
     "text": [
      "c:\\Users\\natha\\Downloads\\Computational_Physics\\anaconda3\\Lib\\site-packages\\sklearn\\metrics\\_classification.py:1565: UndefinedMetricWarning: Precision is ill-defined and being set to 0.0 in labels with no predicted samples. Use `zero_division` parameter to control this behavior.\n",
      "  _warn_prf(average, modifier, f\"{metric.capitalize()} is\", len(result))\n",
      "c:\\Users\\natha\\Downloads\\Computational_Physics\\anaconda3\\Lib\\site-packages\\sklearn\\metrics\\_classification.py:1565: UndefinedMetricWarning: Precision is ill-defined and being set to 0.0 in labels with no predicted samples. Use `zero_division` parameter to control this behavior.\n",
      "  _warn_prf(average, modifier, f\"{metric.capitalize()} is\", len(result))\n",
      "c:\\Users\\natha\\Downloads\\Computational_Physics\\anaconda3\\Lib\\site-packages\\sklearn\\metrics\\_classification.py:1565: UndefinedMetricWarning: Precision is ill-defined and being set to 0.0 in labels with no predicted samples. Use `zero_division` parameter to control this behavior.\n",
      "  _warn_prf(average, modifier, f\"{metric.capitalize()} is\", len(result))\n"
     ]
    }
   ],
   "source": [
    "results_df[\"Avg Accuracy\"] = (results_df[\"Salary Accuracy\"] + results_df[\"AdditionalComp Accuracy\"])/2\n",
    "best_model_name = results_df['Avg Accuracy'].idxmax()\n",
    "best_model = trained_models[best_model_name]\n",
    "\n",
    "print(f\"\\nBest model: {best_model_name}\")\n",
    "print(f\"Best accuracy: {results_df.loc[best_model_name, 'Avg Accuracy']:.4f}\")\n",
    "\n",
    "y_pred = best_model.predict(X_test_pca)\n",
    "\n",
    "print(\"=== Salary Classification Report ===\")\n",
    "print(classification_report(y_test['Salary_binned'], y_pred[:, 0]))\n",
    "\n",
    "print(\"=== Additional Compensation Classification Report ===\")\n",
    "print(classification_report(y_test['AdditionalComp_binned'], y_pred[:, 1]))"
   ]
  },
  {
   "cell_type": "code",
   "execution_count": null,
   "id": "a8eb7563",
   "metadata": {},
   "outputs": [],
   "source": [
    "target_encoder = ce.TargetEncoder(cols=high_card_cols)\n",
    "df_encoded = target_encoder.fit_transform(df[high_card_cols], df['TotalComp'])"
   ]
  },
  {
   "cell_type": "code",
   "execution_count": null,
   "id": "6a41f841",
   "metadata": {},
   "outputs": [],
   "source": [
    "ordinal_encoder = OrdinalEncoder(categories=categories)"
   ]
  },
  {
   "cell_type": "code",
   "execution_count": null,
   "id": "62086015",
   "metadata": {},
   "outputs": [
    {
     "name": "stdout",
     "output_type": "stream",
     "text": [
      "\n",
      "Saving model components...\n",
      "✓ Model saved\n",
      "✓ Scaler saved\n",
      "✓ PCA saved\n",
      "✓ Target encoder saved\n",
      "✓ Ordinal encoder saved\n",
      "✓ Metadata saved\n",
      "Warning: Could not save combined file: name 'category_encoders' is not defined\n",
      "Individual component files are saved and can be used instead.\n",
      "\n",
      "All components saved successfully!\n",
      "Best model: RandomForest\n",
      "Best accuracy: 0.6536\n",
      "You can now use the Streamlit app for predictions!\n"
     ]
    }
   ],
   "source": [
    "\n",
    "# === SAVE ALL COMPONENTS ===\n",
    "# Save components individually to avoid pickle issues\n",
    "print(\"\\nSaving model components...\")\n",
    "\n",
    "# Save the main model\n",
    "with open(\"best_model.pkl\", \"wb\") as f:\n",
    "    pickle.dump(best_model, f)\n",
    "print(\"✓ Model saved\")\n",
    "\n",
    "# Save scaler\n",
    "with open(\"scaler.pkl\", \"wb\") as f:\n",
    "    pickle.dump(scaler, f)\n",
    "print(\"✓ Scaler saved\")\n",
    "\n",
    "# Save PCA\n",
    "with open(\"pca.pkl\", \"wb\") as f:\n",
    "    pickle.dump(pca, f)\n",
    "print(\"✓ PCA saved\")\n",
    "\n",
    "# Save target encoder\n",
    "with open(\"target_encoder.pkl\", \"wb\") as f:\n",
    "    pickle.dump(target_encoder, f)\n",
    "print(\"✓ Target encoder saved\")\n",
    "\n",
    "# Save ordinal encoder\n",
    "with open(\"ordinal_encoder.pkl\", \"wb\") as f:\n",
    "    pickle.dump(ordinal_encoder, f)\n",
    "print(\"✓ Ordinal encoder saved\")\n",
    "\n",
    "# Save metadata (feature columns, results, etc.)\n",
    "metadata = {\n",
    "    'feature_columns': list(X.columns),\n",
    "    'results': results,\n",
    "    'best_model_name': best_model_name,\n",
    "    'target_columns': ['Salary_binned', 'AdditionalComp_binned'],\n",
    "    'high_card_cols': high_card_cols,\n",
    "    'ordinal_cols': ordinal_cols,\n",
    "    'categories': {\n",
    "        'age_order': age_order,\n",
    "        'experience_order': experience_order, \n",
    "        'education_order': education_order\n",
    "    }\n",
    "}\n",
    "\n",
    "with open(\"model_metadata.pkl\", \"wb\") as f:\n",
    "    pickle.dump(metadata, f)\n",
    "print(\"✓ Metadata saved\")\n",
    "\n",
    "# Create a combined components file (alternative approach)\n",
    "try:\n",
    "    model_components = {\n",
    "        'model': best_model,\n",
    "        'scaler': scaler,\n",
    "        'pca': pca,\n",
    "        'target_encoder': category_encoders,\n",
    "        'ordinal_encoder': OrdinalEncoder,\n",
    "        'metadata': metadata\n",
    "    }\n",
    "    \n",
    "    with open(\"model_components.pkl\", \"wb\") as f:\n",
    "        pickle.dump(model_components, f)\n",
    "    print(\"✓ Combined components file saved\")\n",
    "    \n",
    "    # Verify the saved model works\n",
    "    print(\"\\nVerifying saved model...\")\n",
    "    with open(\"model_components.pkl\", \"rb\") as f:\n",
    "        loaded_components = pickle.load(f)\n",
    "    \n",
    "    # Test prediction on one sample\n",
    "    test_pred = loaded_components['model'].predict(X_test_pca[:1])\n",
    "    print(f\"Test prediction: Salary tier {test_pred[0][0]}, AddComp tier {test_pred[0][1]}\")\n",
    "    print(\"✓ Model verification successful!\")\n",
    "    \n",
    "except Exception as e:\n",
    "    print(f\"Warning: Could not save combined file: {e}\")\n",
    "    print(\"Individual component files are saved and can be used instead.\")\n",
    "\n",
    "print(f\"\\nAll components saved successfully!\")\n",
    "print(f\"Best model: {best_model_name}\")\n",
    "print(f\"Best accuracy: {results_df.loc[best_model_name, 'Avg Accuracy']:.4f}\")\n",
    "print(\"You can now use the Streamlit app for predictions!\")"
   ]
  }
 ],
 "metadata": {
  "kernelspec": {
   "display_name": "base",
   "language": "python",
   "name": "python3"
  },
  "language_info": {
   "codemirror_mode": {
    "name": "ipython",
    "version": 3
   },
   "file_extension": ".py",
   "mimetype": "text/x-python",
   "name": "python",
   "nbconvert_exporter": "python",
   "pygments_lexer": "ipython3",
   "version": "3.11.7"
  }
 },
 "nbformat": 4,
 "nbformat_minor": 5
}
